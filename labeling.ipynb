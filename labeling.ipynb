{
 "cells": [
  {
   "cell_type": "markdown",
   "metadata": {},
   "source": [
    "### csv 한줄씩 번역하여 labeling 하는 코드입니다! \n",
    "final_data\\\\final_data_split_{targetNum}.csv 경로의 파일을 읽으니, 확인해주세요! \n",
    "targetNum 변수에 확인하려는 파일 넘버를 작성해주세요.\n",
    "실행하면 첫 번째 열 부터 번역하여 출력하고, 사용자 입력을 기다립니다.\n",
    "성범죄자 데이터는 1, 그 외는 0, 유효하지 않은 값엔 -1 을 주었어요. \n",
    "\n",
    "종료 후엔 output_path 위치에 저장됩니다. "
   ]
  },
  {
   "cell_type": "code",
   "execution_count": 1,
   "metadata": {},
   "outputs": [
    {
     "name": "stdout",
     "output_type": "stream",
     "text": [
      "Requirement already satisfied: deep-translator in c:\\users\\jumin\\documents\\github\\sexoffender\\venv\\lib\\site-packages (1.11.4)\n",
      "Requirement already satisfied: requests<3.0.0,>=2.23.0 in c:\\users\\jumin\\documents\\github\\sexoffender\\venv\\lib\\site-packages (from deep-translator) (2.32.3)\n",
      "Requirement already satisfied: beautifulsoup4<5.0.0,>=4.9.1 in c:\\users\\jumin\\documents\\github\\sexoffender\\venv\\lib\\site-packages (from deep-translator) (4.12.3)\n",
      "Requirement already satisfied: soupsieve>1.2 in c:\\users\\jumin\\documents\\github\\sexoffender\\venv\\lib\\site-packages (from beautifulsoup4<5.0.0,>=4.9.1->deep-translator) (2.6)\n",
      "Requirement already satisfied: certifi>=2017.4.17 in c:\\users\\jumin\\documents\\github\\sexoffender\\venv\\lib\\site-packages (from requests<3.0.0,>=2.23.0->deep-translator) (2024.8.30)\n",
      "Requirement already satisfied: idna<4,>=2.5 in c:\\users\\jumin\\documents\\github\\sexoffender\\venv\\lib\\site-packages (from requests<3.0.0,>=2.23.0->deep-translator) (3.10)\n",
      "Requirement already satisfied: urllib3<3,>=1.21.1 in c:\\users\\jumin\\documents\\github\\sexoffender\\venv\\lib\\site-packages (from requests<3.0.0,>=2.23.0->deep-translator) (2.2.3)\n",
      "Requirement already satisfied: charset-normalizer<4,>=2 in c:\\users\\jumin\\documents\\github\\sexoffender\\venv\\lib\\site-packages (from requests<3.0.0,>=2.23.0->deep-translator) (3.4.0)\n",
      "Note: you may need to restart the kernel to use updated packages.\n"
     ]
    },
    {
     "name": "stderr",
     "output_type": "stream",
     "text": [
      "\n",
      "[notice] A new release of pip is available: 23.0.1 -> 25.0\n",
      "[notice] To update, run: python.exe -m pip install --upgrade pip\n"
     ]
    }
   ],
   "source": [
    "%pip install deep-translator"
   ]
  },
  {
   "cell_type": "code",
   "execution_count": 5,
   "metadata": {},
   "outputs": [],
   "source": [
    "# 필요한 라이브러리 설치 및 가져오기\n",
    "import pandas as pd\n",
    "from deep_translator import GoogleTranslator  # deep-translator의 GoogleTranslator 사용\n",
    "from IPython.display import clear_output  # 출력 내용을 지우기 위해 사용\n",
    "\n",
    "# CSV 파일 읽기 \n",
    "targetNum = 26\n",
    "file_path = f'final_data\\\\final_data_split_{targetNum}.csv'  # CSV 파일 경로를 여기에 입력하세요!\n",
    "data = pd.read_csv(file_path)"
   ]
  },
  {
   "cell_type": "code",
   "execution_count": 6,
   "metadata": {},
   "outputs": [],
   "source": [
    "# 번역 및 레이블링 준비\n",
    "translator = GoogleTranslator(source='en', target='ko')  # 영어를 한글로 번역. \n",
    "data['label'] = 0  # 새로운 'label' 열 추가, 기본값은 0\n",
    "\n",
    "# 결과 저장 경로\n",
    "output_path = f'labeling_{targetNum}.csv' \n",
    "\n",
    "# 초기 저장 (헤더 포함)\n",
    "data.to_csv(output_path, index=False, encoding='utf-8-sig')\n",
    "\n",
    "# 텍스트 길이 제한 번역 함수 - 5000자 이상이되면 번역기가 터져서, 임의로 잘라서 봅니다. 이정도만 보아도 확인이 가능한 듯 해요!\n",
    "def translate_text_limited(content, max_length=3000):\n",
    "    \"\"\"\n",
    "    텍스트의 첫 max_length(3000자)까지만 번역합니다.\n",
    "    \"\"\"\n",
    "    truncated_content = content[:max_length]  # 3000자 제한\n",
    "    try:\n",
    "        return translator.translate(truncated_content)\n",
    "    except Exception as e:\n",
    "        return f\"[번역 실패] 텍스트를 번역할 수 없습니다: {e}\"\n",
    "\n",
    "# 번역 및 라벨링 함수 정의\n",
    "def process_row(index, content):\n",
    "\n",
    "    # 이전 출력 내용 삭제\n",
    "    clear_output(wait=True)\n",
    "\n",
    "    # [removed] 처리: 자동으로 -1 라벨링\n",
    "    if content.strip().lower() == '[removed]':\n",
    "        print(f\"행 번호: {index + 1}\\n[removed] 내용은 자동으로 -1로 라벨링됩니다.\")\n",
    "        return -1\n",
    "    \n",
    "    # 첫 3000자만 번역\n",
    "    translated_content = translate_text_limited(content)\n",
    "    \n",
    "    print(f\"행 번호: {index + 1}\\n번역된 내용:\\n{translated_content}\\n\")\n",
    "    \n",
    "    # 사용자로부터 라벨 입력 받기\n",
    "    while True:\n",
    "        try:\n",
    "            label = int(input(\"이 게시글이 성범죄자 작성이면 1, 아니면 0을 입력하세요: \"))\n",
    "            if label in [-1, 0, 1]: # 성범죄자 1, 기타 0, 결측치 -1 \n",
    "                return label\n",
    "            else:\n",
    "                print(\"0 또는 1만 입력 가능합니다.\")\n",
    "        except ValueError:\n",
    "            print(\"유효한 숫자를 입력하세요.\")"
   ]
  },
  {
   "cell_type": "code",
   "execution_count": null,
   "metadata": {},
   "outputs": [
    {
     "name": "stdout",
     "output_type": "stream",
     "text": [
      "행 번호: 556\n",
      "번역된 내용:\n",
      "안녕하세요!! 저는 현재 12살이고 제 경험에 대해 이야기하고 싶었습니다. 이 일은 1년도 되지 않았지만, 저는 여전히 그 사람과 같은 학교에 다닙니다. \n",
      "\n",
      "제가 11살이 된 2023년 10월경에 그 사람을 만났습니다. 그 사람은 저와 비슷한 얼터너티브였고, 관심사를 공유하는 사람이 있어서 정말 멋진 것 같았습니다. 그 사람은 저보다 한 학년 위였고 지금도 그렇습니다(약 2살 더 많고, 현재 14살입니다). \n",
      "\n",
      "우리가 친구가 되었을 때, 우리는 즉시 친해졌고, 영화관에 갔고, 저는 그 사람을 제 다른 친구 중 한 명과 함께 트릭 오어 트리팅을 하러 오라고 초대했습니다. 우리 모두 친해졌지만, 그 시점(또는 그 근처)에 상황이 매우 이상해지기 시작했습니다. 할로윈 이후에 우리가 섹스팅을 했고, 그 사람이 성적 관계, 자위 행위와 같은 개인적인 것들을 공유하기 시작한 것을 기억합니다. 두 번째로 우리 집에서 놀았을 때, 우리가 껴안기 시작했다는 걸 구체적으로 기억해요(11월경이었고, 우리는 한 달도 채 안 됐어요). 세 번째나 네 번째 포르노를 봤을 때. 어떻게 해서 포르노를 보라고 했는지 기억이 나지 않고, 그때까지 내가 본 적이 없는 포르노였고, \"성숙해지는 것\"에 대한 흥분이 얼마나 빌어먹을 정도로 이상하다는 생각을 하지 않기에 충분했던 것 같아요\n",
      "\n",
      "어느 순간 그는 내 목에 키스를 하고 사랑한다고 말했어요. 내 자신감이 그에게 의지하는 것 같았고, 이전의 나에 대한 빈 껍질이 되어가는 것 같았어요. 그리고 우리가 더 이상 관심사에 대해 잘 통했다는 것도 아니었고, 우리의 모든 대화는 내 방에서 일어날 \"게이 섹스\"라고 부르는 것에 대한 것이었어요. 그게 아니었다면, 우리의 유일한 대화 시작은 \"뭐하는 거야?\"였어요\n",
      "\n",
      "언제부터 이런 일이 일어났는지는 모르겠지만, 친했던 친구들과 거리를 두기 시작했어요. 저와 그는 \"우정\"이 끝날 때까지는 하루도 이야기하지 않은 적이 없었습니다. 그는 질투 문제에 대해 이야기하기 시작했고, 그가 얼마나 집착적인지, 그리고 과거에 많은 사람들이 그를 떠났거나 배신했는지에 대해 이야기했습니다. (정확히 언제 일어났는지 기억나지 않습니다.) 하지만 그의 질투의 한 예는 저와 그가 둘만 가게에 가기로 했을 때였습니다. 저는 그날 전에 지금까지도 정말 소중히 여기는 친구 한 명과 어울리게 되었고, 그렇게 짧은 통보로 그들을 떠나고 싶지 않았기 때문에 그들을 저와 그와 함께 가자고 초대했습니다. ig 학대자를 S라고 부르겠습니다. 제 실제 친구는 C입니다. 그런데 S는 제가 모르는 그의 동생을 초대했기 때문에 그다지 편안하지 않았습니다(C를 초대해야 할 이유가 더 많아졌습니다). 솔직히 말해서 저는 즐거웠습니다! S 때문이 아니라 C 덕분에 그는 저를 그곳에서 훨씬 더 편안하고 행복하게 만들어주었습니다. 하지만 모두가 집에 간 후에 S로부터 문자가 왔는데, 그가 내가 어떤 모임에도 친구들을 초대하지 말라고 하더군요. 그가 어색하고 불편하다고 느꼈기 때문이라고요. 당시에는 이해했지만 지금 생각해보니 정말 이상하게 느껴졌어요.\n",
      "\n",
      "집에 와서는 남자가 되고 싶다는 걸 깨달았고, 내 몸에 대해 더 불편함을 느꼈지만\n",
      "\n",
      "라벨링이 완료되었습니다. 결과는 'labeling_25.csv'에 저장되었습니다.\n"
     ]
    }
   ],
   "source": [
    "# 각 행 처리\n",
    "for i in range( len(data)):\n",
    "    content = data.loc[i, 'content']\n",
    "    label = process_row(i, content)\n",
    "    data.loc[i, 'label'] = label  # 'label' 열에 사용자 입력 값 저장\n",
    "\n",
    "    # 변경 사항을 바로 저장 (헤더는 첫 번째 행에서만 저장)\n",
    "    if i == 0:\n",
    "        data.iloc[[i]].to_csv(output_path, index=False, mode='w', encoding='utf-8-sig')  # 헤더 포함\n",
    "    else:\n",
    "        data.iloc[[i]].to_csv(output_path, index=False, mode='a', encoding='ut0-f-8-sig', header=False)  # 헤더 제외\n",
    "\n",
    "print(f\"라벨링이 완료되었습니다. 결과는 '{output_path}'에 저장되었습니다.\")\n",
    "\n"
   ]
  }
 ],
 "metadata": {
  "kernelspec": {
   "display_name": "venv",
   "language": "python",
   "name": "python3"
  },
  "language_info": {
   "codemirror_mode": {
    "name": "ipython",
    "version": 3
   },
   "file_extension": ".py",
   "mimetype": "text/x-python",
   "name": "python",
   "nbconvert_exporter": "python",
   "pygments_lexer": "ipython3",
   "version": "3.10.11"
  }
 },
 "nbformat": 4,
 "nbformat_minor": 2
}
